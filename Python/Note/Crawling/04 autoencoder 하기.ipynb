{
 "cells": [
  {
   "cell_type": "code",
   "execution_count": 16,
   "metadata": {},
   "outputs": [],
   "source": [
    "import glob\n",
    "import numpy as np\n",
    "from PIL import Image\n",
    "\n",
    "import matplotlib.pyplot as plt\n",
    "\n",
    "from tensorflow import keras\n",
    "\n",
    "from sklearn.model_selection import train_test_split"
   ]
  },
  {
   "cell_type": "code",
   "execution_count": 17,
   "metadata": {},
   "outputs": [],
   "source": [
    "instrument_Names = ['guitar','sexophone']"
   ]
  },
  {
   "cell_type": "code",
   "execution_count": 18,
   "metadata": {},
   "outputs": [],
   "source": [
    "train = []\n",
    "target = []"
   ]
  },
  {
   "cell_type": "code",
   "execution_count": 19,
   "metadata": {},
   "outputs": [],
   "source": [
    "for name in instrument_Names:\n",
    "    for image in sorted(glob.glob('../../Data/%sresize/*.jpg'%name)):\n",
    "        img = Image.open(image)\n",
    "        img = img.convert('L')\n",
    "        train.append(img)\n",
    "        target.append(name)"
   ]
  },
  {
   "attachments": {},
   "cell_type": "markdown",
   "metadata": {},
   "source": [
    "# train,test 만들기"
   ]
  },
  {
   "cell_type": "code",
   "execution_count": 20,
   "metadata": {},
   "outputs": [],
   "source": [
    "x_train, x_test, y_train, y_test = train_test_split(\n",
    "    train, target, test_size=0.2, random_state=42\n",
    ")"
   ]
  },
  {
   "cell_type": "code",
   "execution_count": 38,
   "metadata": {},
   "outputs": [],
   "source": [
    "trainData = np.zeros(len(x_train) * 100*100, dtype=np.int32).reshape(len(x_train), 100, 100)\n",
    "testData = np.zeros(len(x_test) * 100*100, dtype=np.int32).reshape(len(x_test), 100, 100)"
   ]
  },
  {
   "cell_type": "code",
   "execution_count": 39,
   "metadata": {},
   "outputs": [],
   "source": [
    "i = 0\n",
    "for image in x_train:\n",
    "    img = np.array(image, dtype=np.int32)\n",
    "    trainData[i,:,:] = img\n",
    "    i += 1\n",
    "\n",
    "i = 0\n",
    "for image in x_test:\n",
    "    img = np.array(image, dtype=np.int32)\n",
    "    testData[i,:,:] = img\n",
    "    i += 1"
   ]
  },
  {
   "cell_type": "code",
   "execution_count": 40,
   "metadata": {},
   "outputs": [
    {
     "name": "stdout",
     "output_type": "stream",
     "text": [
      "(32, 100, 100)\n",
      "(8, 100, 100)\n"
     ]
    }
   ],
   "source": [
    "print(trainData.shape)\n",
    "print(testData.shape)"
   ]
  },
  {
   "cell_type": "code",
   "execution_count": 46,
   "metadata": {},
   "outputs": [],
   "source": [
    "#data의 정규화\n",
    "trainData=trainData.astype('float32')/255\n",
    "testData=testData.astype('float32')/255\n",
    "\n",
    "trainData=trainData.reshape((len(trainData),100*100))\n",
    "testData=testData.reshape((len(testData),100*100))"
   ]
  },
  {
   "cell_type": "code",
   "execution_count": 47,
   "metadata": {},
   "outputs": [
    {
     "name": "stdout",
     "output_type": "stream",
     "text": [
      "(32, 10000)\n",
      "(8, 10000)\n"
     ]
    }
   ],
   "source": [
    "print(trainData.shape)\n",
    "print(testData.shape)"
   ]
  },
  {
   "attachments": {},
   "cell_type": "markdown",
   "metadata": {},
   "source": [
    "### Tensorflow Model 만들기"
   ]
  },
  {
   "cell_type": "code",
   "execution_count": 54,
   "metadata": {},
   "outputs": [],
   "source": [
    "# MNIST Data를 입력으로\n",
    "InputModel=keras.layers.Input(shape=(100*100))\n",
    "\n",
    "#EncoderLayer는 3차원으로 축소된 입력값\n",
    "EncodedLayer=keras.layers.Dense(32,activation='relu')(InputModel)\n",
    "\n",
    "# DecoderLayer는 MNIST 차원으로 복원된 값\n",
    "DecoderLayer=keras.layers.Dense(100*100,activation='sigmoid')(EncodedLayer)\n",
    "\n",
    "# AutoEncoderModel은 입력값과 복원값을 최소화 하는 과정\n",
    "AutoencoderModel=keras.models.Model(InputModel,DecoderLayer)"
   ]
  },
  {
   "cell_type": "code",
   "execution_count": 55,
   "metadata": {},
   "outputs": [],
   "source": [
    "AutoencoderModel.compile(optimizer='adam',loss='binary_crossentropy')"
   ]
  },
  {
   "cell_type": "code",
   "execution_count": 56,
   "metadata": {},
   "outputs": [
    {
     "name": "stdout",
     "output_type": "stream",
     "text": [
      "Epoch 1/50\n",
      "1/1 [==============================] - 1s 889ms/step - loss: 0.6931 - val_loss: 0.6927\n",
      "Epoch 2/50\n",
      "1/1 [==============================] - 0s 53ms/step - loss: 0.6927 - val_loss: 0.6922\n",
      "Epoch 3/50\n",
      "1/1 [==============================] - 0s 56ms/step - loss: 0.6922 - val_loss: 0.6917\n",
      "Epoch 4/50\n",
      "1/1 [==============================] - 0s 57ms/step - loss: 0.6917 - val_loss: 0.6912\n",
      "Epoch 5/50\n",
      "1/1 [==============================] - 0s 54ms/step - loss: 0.6912 - val_loss: 0.6906\n",
      "Epoch 6/50\n",
      "1/1 [==============================] - 0s 47ms/step - loss: 0.6906 - val_loss: 0.6900\n",
      "Epoch 7/50\n",
      "1/1 [==============================] - 0s 59ms/step - loss: 0.6900 - val_loss: 0.6893\n",
      "Epoch 8/50\n",
      "1/1 [==============================] - 0s 50ms/step - loss: 0.6893 - val_loss: 0.6884\n",
      "Epoch 9/50\n",
      "1/1 [==============================] - 0s 47ms/step - loss: 0.6884 - val_loss: 0.6874\n",
      "Epoch 10/50\n",
      "1/1 [==============================] - 0s 47ms/step - loss: 0.6874 - val_loss: 0.6861\n",
      "Epoch 11/50\n",
      "1/1 [==============================] - 0s 48ms/step - loss: 0.6862 - val_loss: 0.6846\n",
      "Epoch 12/50\n",
      "1/1 [==============================] - 0s 46ms/step - loss: 0.6847 - val_loss: 0.6828\n",
      "Epoch 13/50\n",
      "1/1 [==============================] - 0s 48ms/step - loss: 0.6829 - val_loss: 0.6807\n",
      "Epoch 14/50\n",
      "1/1 [==============================] - 0s 47ms/step - loss: 0.6807 - val_loss: 0.6781\n",
      "Epoch 15/50\n",
      "1/1 [==============================] - 0s 47ms/step - loss: 0.6782 - val_loss: 0.6751\n",
      "Epoch 16/50\n",
      "1/1 [==============================] - 0s 48ms/step - loss: 0.6752 - val_loss: 0.6716\n",
      "Epoch 17/50\n",
      "1/1 [==============================] - 0s 55ms/step - loss: 0.6717 - val_loss: 0.6676\n",
      "Epoch 18/50\n",
      "1/1 [==============================] - 0s 64ms/step - loss: 0.6678 - val_loss: 0.6631\n",
      "Epoch 19/50\n",
      "1/1 [==============================] - 0s 49ms/step - loss: 0.6633 - val_loss: 0.6580\n",
      "Epoch 20/50\n",
      "1/1 [==============================] - 0s 47ms/step - loss: 0.6582 - val_loss: 0.6523\n",
      "Epoch 21/50\n",
      "1/1 [==============================] - 0s 52ms/step - loss: 0.6526 - val_loss: 0.6460\n",
      "Epoch 22/50\n",
      "1/1 [==============================] - 0s 49ms/step - loss: 0.6463 - val_loss: 0.6390\n",
      "Epoch 23/50\n",
      "1/1 [==============================] - 0s 47ms/step - loss: 0.6394 - val_loss: 0.6314\n",
      "Epoch 24/50\n",
      "1/1 [==============================] - 0s 49ms/step - loss: 0.6319 - val_loss: 0.6232\n",
      "Epoch 25/50\n",
      "1/1 [==============================] - 0s 47ms/step - loss: 0.6237 - val_loss: 0.6143\n",
      "Epoch 26/50\n",
      "1/1 [==============================] - 0s 49ms/step - loss: 0.6149 - val_loss: 0.6047\n",
      "Epoch 27/50\n",
      "1/1 [==============================] - 0s 48ms/step - loss: 0.6054 - val_loss: 0.5944\n",
      "Epoch 28/50\n",
      "1/1 [==============================] - 0s 48ms/step - loss: 0.5953 - val_loss: 0.5836\n",
      "Epoch 29/50\n",
      "1/1 [==============================] - 0s 49ms/step - loss: 0.5845 - val_loss: 0.5720\n",
      "Epoch 30/50\n",
      "1/1 [==============================] - 0s 48ms/step - loss: 0.5732 - val_loss: 0.5599\n",
      "Epoch 31/50\n",
      "1/1 [==============================] - 0s 46ms/step - loss: 0.5612 - val_loss: 0.5472\n",
      "Epoch 32/50\n",
      "1/1 [==============================] - 0s 50ms/step - loss: 0.5486 - val_loss: 0.5339\n",
      "Epoch 33/50\n",
      "1/1 [==============================] - 0s 50ms/step - loss: 0.5355 - val_loss: 0.5200\n",
      "Epoch 34/50\n",
      "1/1 [==============================] - 0s 48ms/step - loss: 0.5219 - val_loss: 0.5057\n",
      "Epoch 35/50\n",
      "1/1 [==============================] - 0s 47ms/step - loss: 0.5077 - val_loss: 0.4909\n",
      "Epoch 36/50\n",
      "1/1 [==============================] - 0s 48ms/step - loss: 0.4932 - val_loss: 0.4756\n",
      "Epoch 37/50\n",
      "1/1 [==============================] - 0s 47ms/step - loss: 0.4782 - val_loss: 0.4601\n",
      "Epoch 38/50\n",
      "1/1 [==============================] - 0s 49ms/step - loss: 0.4630 - val_loss: 0.4442\n",
      "Epoch 39/50\n",
      "1/1 [==============================] - 0s 47ms/step - loss: 0.4474 - val_loss: 0.4281\n",
      "Epoch 40/50\n",
      "1/1 [==============================] - 0s 48ms/step - loss: 0.4316 - val_loss: 0.4118\n",
      "Epoch 41/50\n",
      "1/1 [==============================] - 0s 61ms/step - loss: 0.4157 - val_loss: 0.3954\n",
      "Epoch 42/50\n",
      "1/1 [==============================] - 0s 58ms/step - loss: 0.3997 - val_loss: 0.3789\n",
      "Epoch 43/50\n",
      "1/1 [==============================] - 0s 55ms/step - loss: 0.3837 - val_loss: 0.3625\n",
      "Epoch 44/50\n",
      "1/1 [==============================] - 0s 76ms/step - loss: 0.3678 - val_loss: 0.3462\n",
      "Epoch 45/50\n",
      "1/1 [==============================] - 0s 48ms/step - loss: 0.3520 - val_loss: 0.3301\n",
      "Epoch 46/50\n",
      "1/1 [==============================] - 0s 49ms/step - loss: 0.3364 - val_loss: 0.3142\n",
      "Epoch 47/50\n",
      "1/1 [==============================] - 0s 52ms/step - loss: 0.3210 - val_loss: 0.2986\n",
      "Epoch 48/50\n",
      "1/1 [==============================] - 0s 51ms/step - loss: 0.3060 - val_loss: 0.2834\n",
      "Epoch 49/50\n",
      "1/1 [==============================] - 0s 46ms/step - loss: 0.2913 - val_loss: 0.2686\n",
      "Epoch 50/50\n",
      "1/1 [==============================] - 0s 47ms/step - loss: 0.2771 - val_loss: 0.2543\n"
     ]
    }
   ],
   "source": [
    "history=AutoencoderModel.fit(trainData,trainData,\n",
    "                             batch_size=256,\n",
    "                             epochs=50,\n",
    "                             shuffle=True,\n",
    "                             validation_data=(testData,testData)\n",
    "                             )"
   ]
  }
 ],
 "metadata": {
  "kernelspec": {
   "display_name": "base",
   "language": "python",
   "name": "python3"
  },
  "language_info": {
   "codemirror_mode": {
    "name": "ipython",
    "version": 3
   },
   "file_extension": ".py",
   "mimetype": "text/x-python",
   "name": "python",
   "nbconvert_exporter": "python",
   "pygments_lexer": "ipython3",
   "version": "3.9.13"
  },
  "orig_nbformat": 4
 },
 "nbformat": 4,
 "nbformat_minor": 2
}
