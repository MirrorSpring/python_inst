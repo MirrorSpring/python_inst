{
 "cells": [
  {
   "cell_type": "code",
   "execution_count": 7,
   "metadata": {},
   "outputs": [],
   "source": [
    "#!pip install opencv-python"
   ]
  },
  {
   "cell_type": "code",
   "execution_count": 8,
   "metadata": {},
   "outputs": [],
   "source": [
    "import cv2, sys\n",
    "import matplotlib.pyplot as plt\n",
    "import numpy as np"
   ]
  },
  {
   "cell_type": "code",
   "execution_count": 9,
   "metadata": {},
   "outputs": [],
   "source": [
    "# guitar 이미지 불러서 images_gray에 담기\n",
    "images_gray = []\n",
    "\n",
    "for i in range(1,16):\n",
    "    images = cv2.imread('../../Data/guitar/guitar%04d.jpg'%i, cv2.IMREAD_GRAYSCALE)\n",
    "    images_gray.append(images)"
   ]
  },
  {
   "attachments": {},
   "cell_type": "markdown",
   "metadata": {},
   "source": [
    "---\n",
    "# 원본 이미지들을 각 크기에 맞게 잘라서 저장하기"
   ]
  },
  {
   "cell_type": "code",
   "execution_count": 10,
   "metadata": {},
   "outputs": [],
   "source": [
    "#이미지 잘 들어왔나 확인하기\n",
    "cv2.imshow('image_gray', images_gray[1])\n",
    "cv2.waitKey(0)\n",
    "cv2.destroyAllWindows()"
   ]
  },
  {
   "cell_type": "code",
   "execution_count": 11,
   "metadata": {},
   "outputs": [
    {
     "name": "stderr",
     "output_type": "stream",
     "text": [
      "C:\\Users\\Public\\Documents\\ESTsoft\\CreatorTemp\\ipykernel_19504\\1143090002.py:12: VisibleDeprecationWarning: Creating an ndarray from ragged nested sequences (which is a list-or-tuple of lists-or-tuples-or ndarrays with different lengths or shapes) is deprecated. If you meant to do this, you must specify 'dtype=object' when creating the ndarray.\n",
      "  contours_xy = np.array(contours) #찾은 경계선의 좌표값을 array로 바꿔준다.\n"
     ]
    }
   ],
   "source": [
    "for i in range(len(images_gray)):\n",
    "    blur = cv2.GaussianBlur(images_gray[i], ksize=(5,5), sigmaX=0) #배경을 날리고 물체만 가져오기 위해 블러를 넣어준다. \n",
    "    ret, thresh1 = cv2.threshold(blur, 127, 255, cv2.THRESH_BINARY)\n",
    "\n",
    "    edged = cv2.Canny(blur, 10, 250) #Canny를 이용해 모서리를 찾아준다.\n",
    "\n",
    "    kernel = cv2.getStructuringElement(cv2.MORPH_RECT, (7,7)) # 선을 굵게 해줌으로써 경계들이 끊어지지않고 이어지게 해준다.\n",
    "    closed = cv2.morphologyEx(edged, cv2.MORPH_CLOSE, kernel)\n",
    "\n",
    "    contours, _ = cv2.findContours(closed.copy(),cv2.RETR_EXTERNAL, cv2.CHAIN_APPROX_SIMPLE) #이미지의 경계선을 찾는다.\n",
    "\n",
    "    contours_xy = np.array(contours) #찾은 경계선의 좌표값을 array로 바꿔준다.\n",
    "\n",
    "    # 가로 세로의 길이를 구하기 위해 각 축의 좌표의 최대값에서 최소값을 빼준다.\n",
    "    x_min, x_max = 0,0\n",
    "    value = []\n",
    "\n",
    "    for k in range(len(contours_xy)):\n",
    "        for j in range(len(contours_xy[k])):\n",
    "            value.append(contours_xy[k][j][0][0]) #네번째 괄호가 0일때 x의 값\n",
    "            x_min = min(value)\n",
    "            x_max = max(value)\n",
    "\n",
    "    \n",
    "    # 가로 세로의 길이를 구하기 위해 각 축의 좌표의 최대값에서 최소값을 빼준다.\n",
    "    y_min, y_max = 0,0\n",
    "    value = []\n",
    "\n",
    "    for k in range(len(contours_xy)):\n",
    "        for j in range(len(contours_xy[k])):\n",
    "            value.append(contours_xy[k][j][0][1]) #네번째 괄호가 0일때 x의 값\n",
    "            y_min = min(value)\n",
    "            y_max = max(value)\n",
    "\n",
    "  \n",
    "    # image 저장 하기\n",
    "    x = x_min\n",
    "    y = y_min\n",
    "    w = x_max-x_min\n",
    "    h = y_max-y_min\n",
    "    img_trim = images_gray[i][y:y+h, x:x+w]\n",
    "    cv2.imwrite('../../Data/guitar_edge/guitar_edge%04d.jpg'%(i+1), img_trim) # 최종 이미지 저장하기\n",
    "   \n",
    "    "
   ]
  },
  {
   "cell_type": "code",
   "execution_count": null,
   "metadata": {},
   "outputs": [],
   "source": []
  }
 ],
 "metadata": {
  "kernelspec": {
   "display_name": "base",
   "language": "python",
   "name": "python3"
  },
  "language_info": {
   "codemirror_mode": {
    "name": "ipython",
    "version": 3
   },
   "file_extension": ".py",
   "mimetype": "text/x-python",
   "name": "python",
   "nbconvert_exporter": "python",
   "pygments_lexer": "ipython3",
   "version": "3.9.13"
  },
  "orig_nbformat": 4
 },
 "nbformat": 4,
 "nbformat_minor": 2
}
