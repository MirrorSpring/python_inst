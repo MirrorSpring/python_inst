{
 "cells": [
  {
   "cell_type": "code",
   "execution_count": 6,
   "metadata": {},
   "outputs": [],
   "source": [
    "import glob\n",
    "import numpy as np\n",
    "from PIL import Image\n",
    "\n",
    "from scipy import misc\n",
    "from scipy import ndimage\n",
    "\n",
    "import matplotlib.pyplot as plt"
   ]
  },
  {
   "cell_type": "code",
   "execution_count": 7,
   "metadata": {},
   "outputs": [],
   "source": [
    "instrument_Names = ['guitar','sexophone']"
   ]
  },
  {
   "cell_type": "code",
   "execution_count": 8,
   "metadata": {},
   "outputs": [],
   "source": [
    "widthRatio = []\n",
    "heightRatio = []\n",
    "\n",
    "for name in instrument_Names:\n",
    "    for file in sorted(glob.glob('../../Data/%s_edge/*.jpg'%name)):\n",
    "        img = np.array(Image.open(file), dtype=np.int32)\n",
    "        widthRatio.append(img.shape[1])\n",
    "        heightRatio.append(img.shape[0])"
   ]
  },
  {
   "cell_type": "code",
   "execution_count": 9,
   "metadata": {},
   "outputs": [
    {
     "name": "stdout",
     "output_type": "stream",
     "text": [
      "Width : 87\n",
      "Width : 412.43333333333334\n",
      "Width : 1134\n",
      "------------------------------\n",
      "height : 188\n",
      "height : 481.06666666666666\n",
      "height : 1799\n"
     ]
    }
   ],
   "source": [
    "print('Width :',np.min(widthRatio))\n",
    "print('Width :',np.mean(widthRatio))\n",
    "print('Width :',np.max(widthRatio))\n",
    "print('-'*30)\n",
    "print('height :',np.min(heightRatio))\n",
    "print('height :',np.mean(heightRatio))\n",
    "print('height :',np.max(heightRatio))"
   ]
  },
  {
   "attachments": {},
   "cell_type": "markdown",
   "metadata": {},
   "source": [
    "### 사진의 크기가 너무 크므로 (100,100)으로 일괄적으로 맞춰줌"
   ]
  },
  {
   "cell_type": "code",
   "execution_count": 10,
   "metadata": {},
   "outputs": [
    {
     "name": "stderr",
     "output_type": "stream",
     "text": [
      "C:\\Users\\Public\\Documents\\ESTsoft\\CreatorTemp\\ipykernel_16096\\2278943902.py:13: DeprecationWarning: Please use `zoom` from the `scipy.ndimage` namespace, the `scipy.ndimage.interpolation` namespace is deprecated.\n",
      "  Cubic_img = ndimage.interpolation.zoom(imgArray, zoom=(100/height, 100/width), order=3)\n"
     ]
    }
   ],
   "source": [
    "for name in instrument_Names:\n",
    "    fileCount = 1\n",
    "    for file in sorted(glob.glob('../../Data/%s_edge/*.jpg'%name)):\n",
    "        img = Image.open(file)\n",
    "        imgGray = img.convert('L')\n",
    "        imgArray = np.array(imgGray)\n",
    "\n",
    "        # 이미지 크기를 줄이기 위한 크기를 계산합니다.\n",
    "        height, width = imgArray.shape\n",
    "        #print(imgArray.shape) # (100,100)으로 조절해주기 위한 shape 확인\n",
    "\n",
    "        # Cubic Convolution Interpolation을 사용하여 이미지 크기를 변경합니다.\n",
    "        Cubic_img = ndimage.interpolation.zoom(imgArray, zoom=(100/height, 100/width), order=3)\n",
    "        save_image = Image.fromarray(Cubic_img.astype('uint8'))\n",
    "        save_image.save('../../Data/%sresize/%s_resize.%04d.jpg'%(name, name, fileCount), 'JPEG')\n",
    "        fileCount += 1"
   ]
  },
  {
   "cell_type": "code",
   "execution_count": null,
   "metadata": {},
   "outputs": [],
   "source": []
  }
 ],
 "metadata": {
  "kernelspec": {
   "display_name": "base",
   "language": "python",
   "name": "python3"
  },
  "language_info": {
   "codemirror_mode": {
    "name": "ipython",
    "version": 3
   },
   "file_extension": ".py",
   "mimetype": "text/x-python",
   "name": "python",
   "nbconvert_exporter": "python",
   "pygments_lexer": "ipython3",
   "version": "3.9.13"
  },
  "orig_nbformat": 4
 },
 "nbformat": 4,
 "nbformat_minor": 2
}
