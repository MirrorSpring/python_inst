{
 "cells": [
  {
   "cell_type": "code",
   "execution_count": 21,
   "metadata": {},
   "outputs": [],
   "source": [
    "#!pip install opencv-python"
   ]
  },
  {
   "cell_type": "code",
   "execution_count": 22,
   "metadata": {},
   "outputs": [],
   "source": [
    "import cv2, sys\n",
    "import matplotlib.pyplot as plt\n",
    "import numpy as np"
   ]
  },
  {
   "cell_type": "code",
   "execution_count": 23,
   "metadata": {},
   "outputs": [],
   "source": [
    "#image = cv2.imread('D:\\deep_learning_git\\Python\\Data\\guitar\\guitar0001.jpg')\n",
    "image_gray = cv2.imread('D:\\deep_learning_git\\Python\\Data\\sexophone\\sexophone0018.jpg', cv2.IMREAD_GRAYSCALE)"
   ]
  },
  {
   "cell_type": "code",
   "execution_count": 24,
   "metadata": {},
   "outputs": [],
   "source": [
    "\n",
    "# 이미지 새로 들어올 때 사이즈 조절해주기.\n",
    "# from PIL import Image\n",
    "# from scipy import misc\n",
    "# from scipy import ndimage\n",
    "# imgGray = img.convert('L')\n",
    "# imgArray = np.array(imgGray)\n",
    "\n",
    "# # 이미지 크기를 줄이기 위한 크기를 계산합니다.\n",
    "# height, width = imgArray.shape\n",
    "# #print(imgArray.shape) # (100,100)으로 조절해주기 위한 shape 확인\n",
    "\n",
    "# # Cubic Convolution Interpolation을 사용하여 이미지 크기를 변경합니다.\n",
    "# Cubic_img = ndimage.interpolation.zoom(imgArray, zoom=(100/height, 100/width), order=3)\n",
    "# save_image = Image.fromarray(Cubic_img.astype('uint8'))\n",
    "# save_image.save('../../Data/redmouse.jpg', 'JPEG')\n",
    "        "
   ]
  },
  {
   "cell_type": "code",
   "execution_count": 25,
   "metadata": {},
   "outputs": [],
   "source": [
    "cv2.imshow('image_gray', image_gray)\n",
    "cv2.waitKey(0)\n",
    "cv2.destroyAllWindows()"
   ]
  },
  {
   "cell_type": "code",
   "execution_count": 28,
   "metadata": {},
   "outputs": [],
   "source": [
    "blur = cv2.GaussianBlur(image_gray, ksize=(5,5), sigmaX=0)\n",
    "ret, thresh1 = cv2.threshold(blur, 127, 255, cv2.THRESH_BINARY)"
   ]
  },
  {
   "cell_type": "code",
   "execution_count": 30,
   "metadata": {},
   "outputs": [
    {
     "data": {
      "text/plain": [
       "-1"
      ]
     },
     "execution_count": 30,
     "metadata": {},
     "output_type": "execute_result"
    }
   ],
   "source": [
    "edged = cv2.Canny(blur, 10, 250)\n",
    "cv2.imshow('Edged', edged)\n",
    "cv2.waitKey(0)"
   ]
  },
  {
   "cell_type": "code",
   "execution_count": 31,
   "metadata": {},
   "outputs": [
    {
     "data": {
      "text/plain": [
       "-1"
      ]
     },
     "execution_count": 31,
     "metadata": {},
     "output_type": "execute_result"
    }
   ],
   "source": [
    "kernel = cv2.getStructuringElement(cv2.MORPH_RECT, (7,7))\n",
    "closed = cv2.morphologyEx(edged, cv2.MORPH_CLOSE, kernel)\n",
    "cv2.imshow('closed', closed)\n",
    "cv2.waitKey(0)\n"
   ]
  },
  {
   "cell_type": "code",
   "execution_count": 32,
   "metadata": {},
   "outputs": [],
   "source": [
    "contours, _ = cv2.findContours(closed.copy(),cv2.RETR_EXTERNAL, cv2.CHAIN_APPROX_SIMPLE)\n",
    "total = 0\n"
   ]
  },
  {
   "cell_type": "code",
   "execution_count": 33,
   "metadata": {},
   "outputs": [
    {
     "name": "stderr",
     "output_type": "stream",
     "text": [
      "C:\\Users\\Public\\Documents\\ESTsoft\\CreatorTemp\\ipykernel_9668\\60402435.py:1: VisibleDeprecationWarning: Creating an ndarray from ragged nested sequences (which is a list-or-tuple of lists-or-tuples-or ndarrays with different lengths or shapes) is deprecated. If you meant to do this, you must specify 'dtype=object' when creating the ndarray.\n",
      "  contours_xy = np.array(contours)\n"
     ]
    },
    {
     "data": {
      "text/plain": [
       "(6,)"
      ]
     },
     "execution_count": 33,
     "metadata": {},
     "output_type": "execute_result"
    }
   ],
   "source": [
    "contours_xy = np.array(contours)\n",
    "contours_xy.shape"
   ]
  },
  {
   "cell_type": "code",
   "execution_count": 34,
   "metadata": {},
   "outputs": [
    {
     "name": "stdout",
     "output_type": "stream",
     "text": [
      "16\n",
      "1483\n",
      "20\n",
      "999\n"
     ]
    }
   ],
   "source": [
    "# x의 min과 max 찾기\n",
    "x_min, x_max = 0,0\n",
    "value = list()\n",
    "for i in range(len(contours_xy)):\n",
    "    for j in range(len(contours_xy[i])):\n",
    "        value.append(contours_xy[i][j][0][0]) #네번째 괄호가 0일때 x의 값\n",
    "        x_min = min(value)\n",
    "        x_max = max(value)\n",
    "print(x_min)\n",
    "print(x_max)\n",
    " \n",
    "# y의 min과 max 찾기\n",
    "y_min, y_max = 0,0\n",
    "value = list()\n",
    "for i in range(len(contours_xy)):\n",
    "    for j in range(len(contours_xy[i])):\n",
    "        value.append(contours_xy[i][j][0][1]) #네번째 괄호가 0일때 x의 값\n",
    "        y_min = min(value)\n",
    "        y_max = max(value)\n",
    "print(y_min)\n",
    "print(y_max)\n"
   ]
  },
  {
   "cell_type": "code",
   "execution_count": 35,
   "metadata": {},
   "outputs": [],
   "source": [
    "# image trim 하기\n",
    "x = x_min\n",
    "y = y_min\n",
    "w = x_max-x_min\n",
    "h = y_max-y_min"
   ]
  },
  {
   "cell_type": "code",
   "execution_count": 36,
   "metadata": {},
   "outputs": [],
   "source": [
    "img_trim = image_gray[y:y+h, x:x+w]\n",
    "cv2.imwrite('org_trim.jpg', img_trim)\n",
    "org_image = cv2.imread('org_trim.jpg')"
   ]
  },
  {
   "cell_type": "code",
   "execution_count": 37,
   "metadata": {},
   "outputs": [],
   "source": [
    "cv2.imshow('org_image', org_image)\n",
    "cv2.waitKey(0)\n",
    "cv2.destroyAllWindows()"
   ]
  },
  {
   "cell_type": "code",
   "execution_count": 38,
   "metadata": {},
   "outputs": [
    {
     "data": {
      "text/plain": [
       "True"
      ]
     },
     "execution_count": 38,
     "metadata": {},
     "output_type": "execute_result"
    }
   ],
   "source": [
    "cv2.imwrite(\"../../Data/1.jpg\", org_image)"
   ]
  }
 ],
 "metadata": {
  "kernelspec": {
   "display_name": "base",
   "language": "python",
   "name": "python3"
  },
  "language_info": {
   "codemirror_mode": {
    "name": "ipython",
    "version": 3
   },
   "file_extension": ".py",
   "mimetype": "text/x-python",
   "name": "python",
   "nbconvert_exporter": "python",
   "pygments_lexer": "ipython3",
   "version": "3.9.13"
  },
  "orig_nbformat": 4
 },
 "nbformat": 4,
 "nbformat_minor": 2
}
